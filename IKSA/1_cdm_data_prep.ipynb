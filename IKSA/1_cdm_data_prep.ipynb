{
 "cells": [
  {
   "cell_type": "code",
   "execution_count": 9,
   "id": "edf84987-8687-4dab-a8f4-257a7773eacd",
   "metadata": {},
   "outputs": [],
   "source": [
    "import warnings\n",
    "warnings.simplefilter(action='ignore', category=FutureWarning)\n",
    "\n",
    "import pandas as pd\n",
    "import numpy as np"
   ]
  },
  {
   "cell_type": "markdown",
   "id": "83527607-edef-4bf7-a3db-8e5a1563865c",
   "metadata": {},
   "source": [
    "# Transforming World Development Indicators (WDI)"
   ]
  },
  {
   "cell_type": "markdown",
   "id": "51862993-44e0-4757-87d7-9008faa05ebd",
   "metadata": {},
   "source": [
    "## 2025 06 version"
   ]
  },
  {
   "cell_type": "code",
   "execution_count": 10,
   "id": "d89419f4-6108-4934-ad90-955e446fe2a4",
   "metadata": {},
   "outputs": [],
   "source": [
    "# loading up the data\n",
    "WDI_2025_03_df = pd.read_excel(r'data\\raw\\WDI_2025_03_cobb_douglass.xlsx')\n",
    "\n",
    "# dropping the comments\n",
    "WDI_2025_03_df = WDI_2025_03_df.dropna(subset=['Country Code'])\n",
    "\n",
    "WDI_2025_03_df = pd.melt(WDI_2025_03_df, id_vars=list(WDI_2025_03_df.columns)[:6], value_vars=list(WDI_2025_03_df.columns)[6:])\n",
    "\n",
    "WDI_2025_03_df = WDI_2025_03_df[['Country Name'\n",
    "                                           , 'Country Code'\n",
    "                                           , 'Series Name'\n",
    "                                           , 'Series Code'\n",
    "                                           , 'variable'\n",
    "                                           , 'value'\n",
    "                                          ]]\n",
    "\n",
    "# renaming\n",
    "WDI_2025_03_df.rename(columns={'variable': 'Year'\n",
    "                                    , 'value': 'Value'\n",
    "                                    , 'Series Name': 'Indicator Name'\n",
    "                                    , 'Series Code': 'Indicator Code'\n",
    "                                   }\n",
    "                           , inplace=True)\n",
    "\n",
    "WDI_2025_03_df['Year'] = WDI_2025_03_df['Year'].str.split('['\n",
    "                                                          , expand=True)[0]\n",
    "WDI_2025_03_df['Year'] = WDI_2025_03_df['Year'].astype(int)\n",
    "\n",
    "# making sure the data is an int\n",
    "WDI_2025_03_df['Value'] = pd.to_numeric(WDI_2025_03_df['Value'], errors='coerce')\n",
    "\n",
    "WDI_2025_03_df['Source']= 'World Bank 2025 03'"
   ]
  },
  {
   "cell_type": "code",
   "execution_count": 11,
   "id": "58fee7e7-876d-4468-b071-0154380a9685",
   "metadata": {},
   "outputs": [],
   "source": [
    "WDI_2025_03_df.dropna(subset=['Value'], inplace=True)"
   ]
  },
  {
   "cell_type": "markdown",
   "id": "2028a8bd-7200-4be5-814e-441dfb80ec9a",
   "metadata": {},
   "source": [
    "## 2011 12 version"
   ]
  },
  {
   "cell_type": "code",
   "execution_count": 12,
   "id": "c39507fc-dfa3-46fb-87fd-30312c4d347a",
   "metadata": {},
   "outputs": [],
   "source": [
    "# loading up the data\n",
    "WDI_2011_12_df = pd.read_excel(r'data\\raw\\WDI_2011_12_cobb_douglass.xlsx')\n",
    "\n",
    "# dropping the comments\n",
    "WDI_2011_12_df = WDI_2011_12_df.dropna(subset=['Country Code'])\n",
    "\n",
    "WDI_2011_12_df = pd.melt(WDI_2011_12_df, id_vars=list(WDI_2011_12_df.columns)[:6], value_vars=list(WDI_2011_12_df.columns)[6:])\n",
    "\n",
    "WDI_2011_12_df = WDI_2011_12_df[['Country Name'\n",
    "                                           , 'Country Code'\n",
    "                                           , 'Series Name'\n",
    "                                           , 'Series Code'\n",
    "                                           , 'variable'\n",
    "                                           , 'value'\n",
    "                                          ]]\n",
    "\n",
    "# renaming\n",
    "WDI_2011_12_df.rename(columns={'variable': 'Year'\n",
    "                                    , 'value': 'Value'\n",
    "                                    , 'Series Name': 'Indicator Name'\n",
    "                                    , 'Series Code': 'Indicator Code'\n",
    "                                   }\n",
    "                           , inplace=True)\n",
    "\n",
    "WDI_2011_12_df['Year'] = WDI_2011_12_df['Year'].str.split('['\n",
    "                                                          , expand=True)[0]\n",
    "WDI_2011_12_df['Year'] = WDI_2011_12_df['Year'].astype(int)\n",
    "\n",
    "# making sure the data is an int\n",
    "WDI_2011_12_df['Value'] = pd.to_numeric(WDI_2011_12_df['Value'], errors='coerce')\n",
    "\n",
    "WDI_2011_12_df['Source']= 'World Bank 2011 12'"
   ]
  },
  {
   "cell_type": "code",
   "execution_count": 13,
   "id": "499ae605-e3b1-4eb3-a85a-dcd67bd7be12",
   "metadata": {},
   "outputs": [],
   "source": [
    "WDI_2011_12_df.dropna(subset=['Value'], inplace=True)"
   ]
  },
  {
   "cell_type": "markdown",
   "id": "f58a0e23-fea0-46d5-81b5-1a696ad1bacb",
   "metadata": {},
   "source": [
    "# Together"
   ]
  },
  {
   "cell_type": "code",
   "execution_count": 14,
   "id": "60846d71-012f-4145-9e61-47b5025d7543",
   "metadata": {},
   "outputs": [],
   "source": [
    "WDI_df = pd.concat([WDI_2011_12_df, WDI_2025_03_df]).drop_duplicates(subset=['Country Name', 'Country Code', 'Indicator Name', 'Indicator Code', 'Year'])"
   ]
  },
  {
   "cell_type": "code",
   "execution_count": 15,
   "id": "a52e6822-0ddc-4471-906b-6e181929cded",
   "metadata": {},
   "outputs": [],
   "source": [
    "WDI_df[WDI_df['Indicator Code'].isin(['NY.GDP.MKTP.CD'\n",
    "                                      , 'SL.TLF.TOTL.IN'\n",
    "                                      , 'NE.GDI.FTOT.CD'\n",
    "                                      ])].to_excel(r'cobb_doulgass_calculation/cobb_doulgass_wdi_data.xlsx', index=False)"
   ]
  },
  {
   "cell_type": "markdown",
   "id": "fffb0dd9-a8a9-4bb0-9096-dfacb09830f2",
   "metadata": {},
   "source": [
    "# Transforming Penn World Table, version 10.01"
   ]
  },
  {
   "cell_type": "code",
   "execution_count": 16,
   "id": "751b959a-7e53-475b-9e19-04bb216f4b8c",
   "metadata": {},
   "outputs": [],
   "source": [
    "# loading up the data\n",
    "penn_table_df = pd.read_excel(r'data\\raw\\pwt1001.xlsx', 'Data')\n",
    "\n",
    "penn_table_df = pd.melt(penn_table_df, id_vars=list(penn_table_df.columns)[:4], value_vars=list(penn_table_df.columns)[4:])\n",
    "\n",
    "penn_table_df = penn_table_df[penn_table_df['countrycode'].isin(['CHN', 'IND'])]\n",
    "\n",
    "penn_table_df = penn_table_df[penn_table_df['variable']=='delta']\n",
    "\n",
    "penn_table_df = penn_table_df.dropna(subset=['value'])"
   ]
  },
  {
   "cell_type": "code",
   "execution_count": 17,
   "id": "e8656306-37bb-4afb-8713-7873932c475e",
   "metadata": {},
   "outputs": [],
   "source": [
    "penn_table_df.to_excel(r'cobb_doulgass_calculation/cobb_doulgass_penn_table_depreciation.xlsx', index=False)"
   ]
  },
  {
   "cell_type": "markdown",
   "id": "21154e84-8581-4b66-ba75-86a239d132d6",
   "metadata": {},
   "source": [
    "# VERSION 2"
   ]
  },
  {
   "cell_type": "markdown",
   "id": "1df5833e-3f02-43b0-b35f-5a913b1b82ec",
   "metadata": {},
   "source": [
    "# working with the constant USD from different periods"
   ]
  },
  {
   "cell_type": "markdown",
   "id": "33874c55-3a4d-4ca4-826c-2a5e766cce13",
   "metadata": {},
   "source": [
    "## 2025_06_china_gdp_constant"
   ]
  },
  {
   "cell_type": "code",
   "execution_count": null,
   "id": "c58d98ea-e511-4fd2-918b-a6c3586e715d",
   "metadata": {},
   "outputs": [],
   "source": [
    "WDI_2025_06_gdp_constant = WDI_2025_03_df[WDI_2025_03_df['Indicator Code']=='NE.GDI.TOTL.KD']"
   ]
  },
  {
   "cell_type": "code",
   "execution_count": null,
   "id": "8d5530b3-000b-4d53-a588-3a007bec61c7",
   "metadata": {},
   "outputs": [],
   "source": [
    "WDI_2025_06_china_gdp_constant = WDI_2025_06_gdp_constant[WDI_2025_06_gdp_constant['Country Code']=='CHN']"
   ]
  },
  {
   "cell_type": "code",
   "execution_count": null,
   "id": "20bf8c1e-6a0a-4e1a-a58c-e216fb1dcc4e",
   "metadata": {},
   "outputs": [],
   "source": [
    "WDI_2025_06_china_gdp_constant = WDI_2025_06_china_gdp_constant[['Country Name'\n",
    "                                                                 , 'Country Code'\n",
    "                                                                 , 'Year'\n",
    "                                                                 , 'Value'\n",
    "                                                                 ]]"
   ]
  },
  {
   "cell_type": "code",
   "execution_count": null,
   "id": "ac26b5c2-f81f-4ef0-a667-fcd56b31b901",
   "metadata": {},
   "outputs": [],
   "source": [
    "# renaming\n",
    "WDI_2025_06_china_gdp_constant.rename(columns={'Value': 'Gross capital formation (constant 2015 US$)'\n",
    "                                              }\n",
    "                                      , inplace=True)"
   ]
  },
  {
   "cell_type": "markdown",
   "id": "67fa05f3-ef5f-4dfd-b8bc-ef00e82e80ff",
   "metadata": {},
   "source": [
    "## 2011_12_china_gdp_constant"
   ]
  },
  {
   "cell_type": "code",
   "execution_count": null,
   "id": "404d6536-9889-48b7-9b64-b3bdff0bf736",
   "metadata": {},
   "outputs": [],
   "source": [
    "WDI_2011_12_gdp_constant = WDI_2011_12_df[WDI_2011_12_df['Indicator Code']=='NE.GDI.TOTL.KD']"
   ]
  },
  {
   "cell_type": "code",
   "execution_count": null,
   "id": "bdf7cdbb-f048-438b-aca7-9384a62ff230",
   "metadata": {},
   "outputs": [],
   "source": [
    "WDI_2011_12_china_gdp_constant = WDI_2011_12_gdp_constant[WDI_2011_12_gdp_constant['Country Code']=='CHN']"
   ]
  },
  {
   "cell_type": "code",
   "execution_count": null,
   "id": "8d24ca5f-76fa-4458-b535-a233ef222cab",
   "metadata": {},
   "outputs": [],
   "source": [
    "WDI_2011_12_china_gdp_constant = WDI_2011_12_china_gdp_constant[['Country Name'\n",
    "                                                                 , 'Country Code'\n",
    "                                                                 , 'Year'\n",
    "                                                                 , 'Value'\n",
    "                                                                 ]]"
   ]
  },
  {
   "cell_type": "code",
   "execution_count": null,
   "id": "9890bedc-2c5c-4739-8ba9-e90230893296",
   "metadata": {},
   "outputs": [],
   "source": [
    "# renaming\n",
    "WDI_2011_12_china_gdp_constant.rename(columns={'Value': 'Gross capital formation (constant 2010 US$)'\n",
    "                                              }\n",
    "                                      , inplace=True)"
   ]
  },
  {
   "cell_type": "code",
   "execution_count": null,
   "id": "1a7e72fb-0c79-47d0-9958-4310dd0ec9a1",
   "metadata": {},
   "outputs": [],
   "source": [
    "WDI_2011_12_china_gdp_constant"
   ]
  },
  {
   "cell_type": "markdown",
   "id": "8bbd80d5-5e4b-40b6-b4ad-a5705d88aa1a",
   "metadata": {},
   "source": [
    "## together"
   ]
  },
  {
   "cell_type": "code",
   "execution_count": null,
   "id": "c2fe0f69-b12d-43d2-a707-089bf2a9c72a",
   "metadata": {},
   "outputs": [],
   "source": [
    "WDI_china_gdp_constant = pd.merge(WDI_2011_12_china_gdp_constant, WDI_2025_06_china_gdp_constant\n",
    "                                  , how='outer'\n",
    "                                  , on=['Country Name'\n",
    "                                        , 'Country Code'\n",
    "                                        , 'Year'\n",
    "                                       ]\n",
    "                                 )"
   ]
  },
  {
   "cell_type": "code",
   "execution_count": null,
   "id": "3fe3d347-fdaf-496e-8fbb-2cd3afa79cb2",
   "metadata": {},
   "outputs": [],
   "source": [
    "test = WDI_china_gdp_constant[WDI_china_gdp_constant.Year.between(1995,2010)]\n",
    "test"
   ]
  },
  {
   "cell_type": "code",
   "execution_count": null,
   "id": "2bbbd84f-0682-4b5a-9df9-bd6c69bc78ab",
   "metadata": {},
   "outputs": [],
   "source": [
    "test['Gross capital formation (constant 2015 US$)'] / test['Gross capital formation (constant 2010 US$)']"
   ]
  },
  {
   "cell_type": "markdown",
   "id": "9af1c954-bafc-4aef-9fd0-a16bd0f487f6",
   "metadata": {},
   "source": [
    "# calcing GFCF "
   ]
  },
  {
   "cell_type": "code",
   "execution_count": null,
   "id": "b6de737e-0be7-4b35-b079-1a54300a3fe7",
   "metadata": {},
   "outputs": [],
   "source": [
    "# how much of "
   ]
  },
  {
   "cell_type": "code",
   "execution_count": null,
   "id": "f5b2e266-0c5b-42bc-b47f-4a5631d3f101",
   "metadata": {},
   "outputs": [],
   "source": []
  },
  {
   "cell_type": "code",
   "execution_count": null,
   "id": "ced2309e-fb61-4291-8316-9e1146fd7609",
   "metadata": {},
   "outputs": [],
   "source": []
  },
  {
   "cell_type": "code",
   "execution_count": null,
   "id": "f80189ae-2b74-4390-8c92-b997964ac9f4",
   "metadata": {},
   "outputs": [],
   "source": []
  },
  {
   "cell_type": "code",
   "execution_count": null,
   "id": "a147520a-f163-402c-ae48-6b37c64de774",
   "metadata": {},
   "outputs": [],
   "source": []
  },
  {
   "cell_type": "code",
   "execution_count": null,
   "id": "3a6b7be0-5fc4-4d24-9a1b-639f98415512",
   "metadata": {},
   "outputs": [],
   "source": []
  },
  {
   "cell_type": "code",
   "execution_count": null,
   "id": "95a8aeca-4db2-4aad-ac99-5d02c24c7db2",
   "metadata": {},
   "outputs": [],
   "source": [
    "# loading up data from a previous study\n",
    "WDI_GFDI_target.to_excel(r'data\\WDI_GFDI_collected.xlsx', index=False)"
   ]
  },
  {
   "cell_type": "code",
   "execution_count": null,
   "id": "3ad1956d-dca2-47ed-bf62-e9110b8ab201",
   "metadata": {},
   "outputs": [],
   "source": []
  },
  {
   "cell_type": "code",
   "execution_count": null,
   "id": "bcf0ca0c-dd94-4125-8586-a794b3803153",
   "metadata": {},
   "outputs": [],
   "source": []
  }
 ],
 "metadata": {
  "kernelspec": {
   "display_name": "Python 3 (ipykernel)",
   "language": "python",
   "name": "python3"
  },
  "language_info": {
   "codemirror_mode": {
    "name": "ipython",
    "version": 3
   },
   "file_extension": ".py",
   "mimetype": "text/x-python",
   "name": "python",
   "nbconvert_exporter": "python",
   "pygments_lexer": "ipython3",
   "version": "3.11.7"
  }
 },
 "nbformat": 4,
 "nbformat_minor": 5
}
