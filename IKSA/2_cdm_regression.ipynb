{
 "cells": [
  {
   "cell_type": "code",
   "execution_count": 1,
   "id": "1b8d9033-e650-40f4-a62f-1bec0b81dbb2",
   "metadata": {},
   "outputs": [],
   "source": [
    "import pandas as pd\n",
    "pd.options.mode.chained_assignment = None\n",
    "\n",
    "import numpy as np"
   ]
  },
  {
   "cell_type": "code",
   "execution_count": 2,
   "id": "54f9af03-c54c-4d57-9d72-020dc9993f75",
   "metadata": {},
   "outputs": [],
   "source": [
    "from scipy.optimize import minimize"
   ]
  },
  {
   "cell_type": "markdown",
   "id": "4838c92b-c38d-4f9a-957f-1033a8cf254d",
   "metadata": {},
   "source": [
    "# importing data"
   ]
  },
  {
   "cell_type": "markdown",
   "id": "ae5c81ea-16f2-4466-b76c-e667372b808a",
   "metadata": {},
   "source": [
    "## WDI"
   ]
  },
  {
   "cell_type": "code",
   "execution_count": 3,
   "id": "64ed6dc0-f4ed-4dbe-8a3a-0f631054380f",
   "metadata": {},
   "outputs": [],
   "source": [
    "WDI_df = pd.read_excel(r\"cobb_doulgass_calculation/cobb_doulgass_wdi_data.xlsx\")"
   ]
  },
  {
   "cell_type": "markdown",
   "id": "1c9ad71b-5a6a-4e93-8359-08efa42a5118",
   "metadata": {},
   "source": [
    "## Penn World Table"
   ]
  },
  {
   "cell_type": "code",
   "execution_count": 4,
   "id": "b3891063-a705-42aa-8fae-3c4f72741a40",
   "metadata": {},
   "outputs": [],
   "source": [
    "penn_table_depreciation_df = pd.read_excel(r\"cobb_doulgass_calculation/cobb_doulgass_penn_table_depreciation.xlsx\")"
   ]
  },
  {
   "cell_type": "markdown",
   "id": "cda972e5-adc0-47bf-992e-ec5a064c117a",
   "metadata": {},
   "source": [
    "# Capital stock"
   ]
  },
  {
   "cell_type": "code",
   "execution_count": 5,
   "id": "0dc955a1-1050-434f-bc17-b840f400cd0a",
   "metadata": {},
   "outputs": [],
   "source": [
    "GFCF_df = WDI_df[WDI_df['Indicator Code']=='NE.GDI.FTOT.CD']"
   ]
  },
  {
   "cell_type": "code",
   "execution_count": 6,
   "id": "f8f8a1db-9eb1-4ed0-803b-ff3590507d6c",
   "metadata": {},
   "outputs": [
    {
     "data": {
      "text/html": [
       "<div>\n",
       "<style scoped>\n",
       "    .dataframe tbody tr th:only-of-type {\n",
       "        vertical-align: middle;\n",
       "    }\n",
       "\n",
       "    .dataframe tbody tr th {\n",
       "        vertical-align: top;\n",
       "    }\n",
       "\n",
       "    .dataframe thead th {\n",
       "        text-align: right;\n",
       "    }\n",
       "</style>\n",
       "<table border=\"1\" class=\"dataframe\">\n",
       "  <thead>\n",
       "    <tr style=\"text-align: right;\">\n",
       "      <th></th>\n",
       "      <th>Country Name</th>\n",
       "      <th>Country Code</th>\n",
       "      <th>Indicator Name</th>\n",
       "      <th>Indicator Code</th>\n",
       "      <th>Year</th>\n",
       "      <th>Value</th>\n",
       "      <th>Source</th>\n",
       "    </tr>\n",
       "  </thead>\n",
       "  <tbody>\n",
       "    <tr>\n",
       "      <th>162</th>\n",
       "      <td>China</td>\n",
       "      <td>CHN</td>\n",
       "      <td>Gross fixed capital formation (current US$)</td>\n",
       "      <td>NE.GDI.FTOT.CD</td>\n",
       "      <td>1960</td>\n",
       "      <td>1.949517e+10</td>\n",
       "      <td>World Bank 2025 06</td>\n",
       "    </tr>\n",
       "    <tr>\n",
       "      <th>163</th>\n",
       "      <td>India</td>\n",
       "      <td>IND</td>\n",
       "      <td>Gross fixed capital formation (current US$)</td>\n",
       "      <td>NE.GDI.FTOT.CD</td>\n",
       "      <td>1960</td>\n",
       "      <td>5.353005e+09</td>\n",
       "      <td>World Bank 2025 06</td>\n",
       "    </tr>\n",
       "    <tr>\n",
       "      <th>164</th>\n",
       "      <td>China</td>\n",
       "      <td>CHN</td>\n",
       "      <td>Gross fixed capital formation (current US$)</td>\n",
       "      <td>NE.GDI.FTOT.CD</td>\n",
       "      <td>1961</td>\n",
       "      <td>9.506394e+09</td>\n",
       "      <td>World Bank 2025 06</td>\n",
       "    </tr>\n",
       "    <tr>\n",
       "      <th>165</th>\n",
       "      <td>India</td>\n",
       "      <td>IND</td>\n",
       "      <td>Gross fixed capital formation (current US$)</td>\n",
       "      <td>NE.GDI.FTOT.CD</td>\n",
       "      <td>1961</td>\n",
       "      <td>6.181446e+09</td>\n",
       "      <td>World Bank 2025 06</td>\n",
       "    </tr>\n",
       "    <tr>\n",
       "      <th>166</th>\n",
       "      <td>China</td>\n",
       "      <td>CHN</td>\n",
       "      <td>Gross fixed capital formation (current US$)</td>\n",
       "      <td>NE.GDI.FTOT.CD</td>\n",
       "      <td>1962</td>\n",
       "      <td>7.307599e+09</td>\n",
       "      <td>World Bank 2025 06</td>\n",
       "    </tr>\n",
       "    <tr>\n",
       "      <th>...</th>\n",
       "      <td>...</td>\n",
       "      <td>...</td>\n",
       "      <td>...</td>\n",
       "      <td>...</td>\n",
       "      <td>...</td>\n",
       "      <td>...</td>\n",
       "      <td>...</td>\n",
       "    </tr>\n",
       "    <tr>\n",
       "      <th>330</th>\n",
       "      <td>India</td>\n",
       "      <td>IND</td>\n",
       "      <td>Gross fixed capital formation (current US$)</td>\n",
       "      <td>NE.GDI.FTOT.CD</td>\n",
       "      <td>2021</td>\n",
       "      <td>9.368164e+11</td>\n",
       "      <td>World Bank 2025 06</td>\n",
       "    </tr>\n",
       "    <tr>\n",
       "      <th>333</th>\n",
       "      <td>China</td>\n",
       "      <td>CHN</td>\n",
       "      <td>Gross fixed capital formation (current US$)</td>\n",
       "      <td>NE.GDI.FTOT.CD</td>\n",
       "      <td>2022</td>\n",
       "      <td>7.493288e+12</td>\n",
       "      <td>World Bank 2025 06</td>\n",
       "    </tr>\n",
       "    <tr>\n",
       "      <th>336</th>\n",
       "      <td>India</td>\n",
       "      <td>IND</td>\n",
       "      <td>Gross fixed capital formation (current US$)</td>\n",
       "      <td>NE.GDI.FTOT.CD</td>\n",
       "      <td>2022</td>\n",
       "      <td>1.031188e+12</td>\n",
       "      <td>World Bank 2025 06</td>\n",
       "    </tr>\n",
       "    <tr>\n",
       "      <th>339</th>\n",
       "      <td>China</td>\n",
       "      <td>CHN</td>\n",
       "      <td>Gross fixed capital formation (current US$)</td>\n",
       "      <td>NE.GDI.FTOT.CD</td>\n",
       "      <td>2023</td>\n",
       "      <td>7.356189e+12</td>\n",
       "      <td>World Bank 2025 06</td>\n",
       "    </tr>\n",
       "    <tr>\n",
       "      <th>342</th>\n",
       "      <td>India</td>\n",
       "      <td>IND</td>\n",
       "      <td>Gross fixed capital formation (current US$)</td>\n",
       "      <td>NE.GDI.FTOT.CD</td>\n",
       "      <td>2023</td>\n",
       "      <td>1.100018e+12</td>\n",
       "      <td>World Bank 2025 06</td>\n",
       "    </tr>\n",
       "  </tbody>\n",
       "</table>\n",
       "<p>128 rows × 7 columns</p>\n",
       "</div>"
      ],
      "text/plain": [
       "    Country Name Country Code                               Indicator Name  \\\n",
       "162        China          CHN  Gross fixed capital formation (current US$)   \n",
       "163        India          IND  Gross fixed capital formation (current US$)   \n",
       "164        China          CHN  Gross fixed capital formation (current US$)   \n",
       "165        India          IND  Gross fixed capital formation (current US$)   \n",
       "166        China          CHN  Gross fixed capital formation (current US$)   \n",
       "..           ...          ...                                          ...   \n",
       "330        India          IND  Gross fixed capital formation (current US$)   \n",
       "333        China          CHN  Gross fixed capital formation (current US$)   \n",
       "336        India          IND  Gross fixed capital formation (current US$)   \n",
       "339        China          CHN  Gross fixed capital formation (current US$)   \n",
       "342        India          IND  Gross fixed capital formation (current US$)   \n",
       "\n",
       "     Indicator Code  Year         Value              Source  \n",
       "162  NE.GDI.FTOT.CD  1960  1.949517e+10  World Bank 2025 06  \n",
       "163  NE.GDI.FTOT.CD  1960  5.353005e+09  World Bank 2025 06  \n",
       "164  NE.GDI.FTOT.CD  1961  9.506394e+09  World Bank 2025 06  \n",
       "165  NE.GDI.FTOT.CD  1961  6.181446e+09  World Bank 2025 06  \n",
       "166  NE.GDI.FTOT.CD  1962  7.307599e+09  World Bank 2025 06  \n",
       "..              ...   ...           ...                 ...  \n",
       "330  NE.GDI.FTOT.CD  2021  9.368164e+11  World Bank 2025 06  \n",
       "333  NE.GDI.FTOT.CD  2022  7.493288e+12  World Bank 2025 06  \n",
       "336  NE.GDI.FTOT.CD  2022  1.031188e+12  World Bank 2025 06  \n",
       "339  NE.GDI.FTOT.CD  2023  7.356189e+12  World Bank 2025 06  \n",
       "342  NE.GDI.FTOT.CD  2023  1.100018e+12  World Bank 2025 06  \n",
       "\n",
       "[128 rows x 7 columns]"
      ]
     },
     "execution_count": 6,
     "metadata": {},
     "output_type": "execute_result"
    }
   ],
   "source": [
    "GFCF_df"
   ]
  },
  {
   "cell_type": "markdown",
   "id": "89e0f286-cadf-4f25-95ae-022c9848f95d",
   "metadata": {},
   "source": [
    "## at 1978"
   ]
  },
  {
   "cell_type": "code",
   "execution_count": null,
   "id": "f4d3b4f9-90ef-4786-be0c-d945e51e5902",
   "metadata": {},
   "outputs": [],
   "source": [
    "GFCF_1960_1978_df = GFCF_df[GFCF_df['Year'].between(1960,1978)]"
   ]
  },
  {
   "cell_type": "code",
   "execution_count": null,
   "id": "22ac1a96-2075-481c-84cb-6be11ce723b8",
   "metadata": {},
   "outputs": [],
   "source": [
    "pre_1978_depreciation_df = penn_table_depreciation_df[penn_table_depreciation_df['year'] <= 1978]"
   ]
  },
  {
   "cell_type": "markdown",
   "id": "54113cf8-a9bc-4f3b-b701-7122a636e07f",
   "metadata": {},
   "source": [
    "### China"
   ]
  },
  {
   "cell_type": "code",
   "execution_count": null,
   "id": "387818a5-fc86-4510-9a1a-5a203cf39e69",
   "metadata": {},
   "outputs": [],
   "source": [
    "china_GFCF_1960_1978_df = GFCF_1960_1978_df[GFCF_1960_1978_df['Country Code']=='CHN']\n",
    "\n",
    "china_GFCF_growth_rate_1960_1978 = (china_GFCF_1960_1978_df['Value'] / china_GFCF_1960_1978_df['Value'].shift(1)-1).mean()\n",
    "\n",
    "china_GFCF_1978 = china_GFCF_1960_1978_df[china_GFCF_1960_1978_df['Year']==1978]['Value']\n",
    "\n",
    "china_1952_1978_depreciation_df = pre_1978_depreciation_df[pre_1978_depreciation_df['countrycode']=='CHN']['value'].mean()\n",
    "\n",
    "china_capital_stock_1978 = (china_GFCF_1978/(china_GFCF_growth_rate_1960_1978 + china_1952_1978_depreciation_df)).values[0]"
   ]
  },
  {
   "cell_type": "markdown",
   "id": "4528db03-ca47-4154-a9e7-943e0b6ce735",
   "metadata": {},
   "source": [
    "### India"
   ]
  },
  {
   "cell_type": "code",
   "execution_count": null,
   "id": "48d1a055-1c16-42ad-9396-1f8b876323f8",
   "metadata": {},
   "outputs": [],
   "source": [
    "india_GFCF_1960_1978_df = GFCF_1960_1978_df[GFCF_1960_1978_df['Country Code']=='IND']\n",
    "\n",
    "india_GFCF_growth_rate_1960_1978 = (india_GFCF_1960_1978_df['Value'] / india_GFCF_1960_1978_df['Value'].shift(1)-1).mean()\n",
    "\n",
    "india_GFCF_1978 = india_GFCF_1960_1978_df[india_GFCF_1960_1978_df['Year']==1978]['Value']\n",
    "\n",
    "india_1952_1978_depreciation_df = pre_1978_depreciation_df[pre_1978_depreciation_df['countrycode']=='IND']['value'].mean()\n",
    "\n",
    "india_capital_stock_1978 = (india_GFCF_1978/(india_GFCF_growth_rate_1960_1978 + india_1952_1978_depreciation_df)).values[0]"
   ]
  },
  {
   "cell_type": "markdown",
   "id": "90344f97-5f28-4c83-af34-032dd98a0be3",
   "metadata": {},
   "source": [
    "## 1978-2024"
   ]
  },
  {
   "cell_type": "code",
   "execution_count": null,
   "id": "95c263e8-736b-41b6-ba94-7b1de1941055",
   "metadata": {},
   "outputs": [],
   "source": [
    "GFCF_1978_2024_df = GFCF_df[GFCF_df['Year'] >= 1978]"
   ]
  },
  {
   "cell_type": "code",
   "execution_count": null,
   "id": "1f79201e-3ab4-48b0-98d3-d99bdc80c3d3",
   "metadata": {},
   "outputs": [],
   "source": [
    "post_1978_depreciation_df = penn_table_depreciation_df[penn_table_depreciation_df['year'] >= 1978]"
   ]
  },
  {
   "cell_type": "code",
   "execution_count": null,
   "id": "1edb0379-0897-42c6-9e98-02e3e70b23a6",
   "metadata": {},
   "outputs": [],
   "source": [
    "post_1978_depreciation_df = post_1978_depreciation_df[['country', 'year', 'value']]"
   ]
  },
  {
   "cell_type": "code",
   "execution_count": null,
   "id": "3886b9b4-8bb0-48da-8755-7546697a520f",
   "metadata": {},
   "outputs": [],
   "source": [
    "post_1978_depreciation_df.rename(columns={'country': 'Country Name'\n",
    "                                         , 'year': 'Year'\n",
    "                                         , 'value': 'Depreciation'}\n",
    "                                      , inplace=True)"
   ]
  },
  {
   "cell_type": "markdown",
   "id": "9d5795a9-82db-42ef-83c6-f7b9a55ffe2a",
   "metadata": {},
   "source": [
    "## China"
   ]
  },
  {
   "cell_type": "code",
   "execution_count": null,
   "id": "f64c4506-c14e-497a-b256-e92898fbf615",
   "metadata": {},
   "outputs": [],
   "source": [
    "china_GFCF_1978_2024_df = GFCF_1978_2024_df[GFCF_1978_2024_df['Country Code']=='CHN']\n",
    "\n",
    "china_GFCF_1978_2024_df = china_GFCF_1978_2024_df[['Country Name'\n",
    "                                                   ,  'Year'\n",
    "                                                   , 'Value'\n",
    "                                                  ]]\n",
    "\n",
    "china_GFCF_1978_2024_df.rename(columns={'Value': 'Gross fixed capital formation'\n",
    "                                              }\n",
    "                                      , inplace=True)\n",
    "\n",
    "china_capital_stock_1978_2024_df = pd.merge(china_GFCF_1978_2024_df, post_1978_depreciation_df, how='left', on =['Country Name', 'Year'])\n",
    "\n",
    "# ASSUMING THAT THE Depreciation RATE 2019-2024 is the same\n",
    "china_capital_stock_1978_2024_df['Depreciation'] = china_capital_stock_1978_2024_df['Depreciation'].ffill()\n",
    "\n",
    "china_capital_stock = [china_capital_stock_1978]\n",
    "for index, row in china_capital_stock_1978_2024_df.iloc[1:].iterrows():\n",
    "    china_capital_stock_current = china_capital_stock[-1] * (1 - row['Depreciation']) + row['Gross fixed capital formation']\n",
    "    china_capital_stock.append(china_capital_stock_current)\n",
    "\n",
    "china_capital_stock_1978_2024_df['Capital stock (current US$)'] = china_capital_stock"
   ]
  },
  {
   "cell_type": "code",
   "execution_count": null,
   "id": "760044cc-9dff-45e3-88f4-29e79674e743",
   "metadata": {},
   "outputs": [],
   "source": [
    "china_capital_stock_1978_2024_df['Country Code'] = 'CHN'\n",
    "china_capital_stock_1978_2024_df['Indicator Name'] = 'Capital stock (current US$)'\n",
    "china_capital_stock_1978_2024_df['Indicator Code'] = 'CALC.CDM.CAPITAL.CD'\n",
    "china_capital_stock_1978_2024_df['Source'] = 'Calculated by author'\n",
    "china_capital_stock_1978_2024_df.rename(columns={'Capital stock (current US$)': 'Value'\n",
    "                                                 }\n",
    "                                      , inplace=True)\n",
    "china_capital_stock_1978_2024_df = china_capital_stock_1978_2024_df[['Country Name'\n",
    "                                                                     , 'Country Code'\n",
    "                                                                     , 'Indicator Name'\n",
    "                                                                     , 'Indicator Code'\n",
    "                                                                     , 'Year'\n",
    "                                                                     , 'Value'\n",
    "                                                                     , 'Source'\n",
    "                                                                    ]]"
   ]
  },
  {
   "cell_type": "markdown",
   "id": "c9443f74-9e40-4bd7-a95d-0be51beba4b1",
   "metadata": {},
   "source": [
    "## India"
   ]
  },
  {
   "cell_type": "code",
   "execution_count": null,
   "id": "b0848d40-8396-4cca-9d00-1797a0cea3d3",
   "metadata": {},
   "outputs": [],
   "source": [
    "india_GFCF_1978_2024_df = GFCF_1978_2024_df[GFCF_1978_2024_df['Country Code']=='IND']\n",
    "\n",
    "india_GFCF_1978_2024_df = india_GFCF_1978_2024_df[['Country Name'\n",
    "                                                   ,  'Year'\n",
    "                                                   , 'Value'\n",
    "                                                  ]]\n",
    "\n",
    "india_GFCF_1978_2024_df.rename(columns={'Value': 'Gross fixed capital formation'\n",
    "                                              }\n",
    "                                      , inplace=True)\n",
    "\n",
    "india_capital_stock_1978_2024_df = pd.merge(india_GFCF_1978_2024_df, post_1978_depreciation_df, how='left', on =['Country Name', 'Year'])\n",
    "\n",
    "# ASSUMING THAT THE Depreciation RATE 2019-2024 is the same\n",
    "india_capital_stock_1978_2024_df['Depreciation'] = india_capital_stock_1978_2024_df['Depreciation'].ffill()\n",
    "\n",
    "india_capital_stock = [india_capital_stock_1978]\n",
    "for index, row in india_capital_stock_1978_2024_df.iloc[1:].iterrows():\n",
    "    india_capital_stock_current = india_capital_stock[-1] * (1 - row['Depreciation']) + row['Gross fixed capital formation']\n",
    "    india_capital_stock.append(india_capital_stock_current)\n",
    "\n",
    "india_capital_stock_1978_2024_df['Capital stock (current US$)'] = india_capital_stock"
   ]
  },
  {
   "cell_type": "code",
   "execution_count": null,
   "id": "39bd314b-471d-4c96-84aa-cec90bc5dce9",
   "metadata": {},
   "outputs": [],
   "source": [
    "india_capital_stock_1978_2024_df['Country Code'] = 'IND'\n",
    "india_capital_stock_1978_2024_df['Indicator Name'] = 'Capital stock (current US$)'\n",
    "india_capital_stock_1978_2024_df['Indicator Code'] = 'CALC.CDM.CAPITAL.CD'\n",
    "india_capital_stock_1978_2024_df['Source'] = 'Calculated by author'\n",
    "india_capital_stock_1978_2024_df.rename(columns={'Capital stock (current US$)': 'Value'\n",
    "                                                 }\n",
    "                                      , inplace=True)\n",
    "india_capital_stock_1978_2024_df = india_capital_stock_1978_2024_df[['Country Name'\n",
    "                                                                     , 'Country Code'\n",
    "                                                                     , 'Indicator Name'\n",
    "                                                                     , 'Indicator Code'\n",
    "                                                                     , 'Year'\n",
    "                                                                     , 'Value'\n",
    "                                                                     , 'Source'\n",
    "                                                                    ]]"
   ]
  },
  {
   "cell_type": "markdown",
   "id": "ebdf3832-e4f0-43d0-884c-5cd1aa7d6900",
   "metadata": {},
   "source": [
    "# Calculating the TFP"
   ]
  },
  {
   "cell_type": "code",
   "execution_count": null,
   "id": "6a6c8c3d-ef89-44be-ab72-eb7dc4419f52",
   "metadata": {},
   "outputs": [],
   "source": [
    "cobb_doulgass_data_df = WDI_df[WDI_df['Indicator Code']!='NE.GDI.FTOT.CD']"
   ]
  },
  {
   "cell_type": "code",
   "execution_count": null,
   "id": "b8f75cc5-a04e-4d39-babf-ba48acc95faf",
   "metadata": {},
   "outputs": [],
   "source": [
    "cobb_doulgass_data_df = pd.concat([cobb_doulgass_data_df, india_capital_stock_1978_2024_df, china_capital_stock_1978_2024_df])"
   ]
  },
  {
   "cell_type": "code",
   "execution_count": null,
   "id": "6d8cd87b-586f-441c-8a0b-25eef15c46dc",
   "metadata": {},
   "outputs": [],
   "source": [
    "# cobb_doulgass_data_df = cobb_doulgass_data_df[cobb_doulgass_data_df['Year'] >= 1980]"
   ]
  },
  {
   "cell_type": "code",
   "execution_count": null,
   "id": "431abe3e-55eb-4a21-9d10-82cf86150428",
   "metadata": {},
   "outputs": [],
   "source": [
    "cobb_doulgass_data_df = cobb_doulgass_data_df[cobb_doulgass_data_df['Year'].between(1980,2023)]"
   ]
  },
  {
   "cell_type": "markdown",
   "id": "8db5d316-6c44-42b6-b14f-30dd938ca44f",
   "metadata": {},
   "source": [
    "## Function specification"
   ]
  },
  {
   "cell_type": "code",
   "execution_count": null,
   "id": "1f94babc-e969-41fb-a02f-f0bd68e2aff6",
   "metadata": {},
   "outputs": [],
   "source": [
    "def total_factor_productivity_data_prep(data_df):\n",
    "    # seperating them into the dependant (GDP) and independant (cap stock and labor) variables\n",
    "    X = data_df[data_df.columns[1:-1]]\n",
    "    y = data_df[data_df.columns[-1]]\n",
    "\n",
    "    # taking the logs of the data so that the elasticity of the two independant variables would be their coefficicents\n",
    "    X[X.columns[0]] = np.log(X[X.columns[0]].astype('float64'))\n",
    "    X[X.columns[1]] = np.log(X[X.columns[1]].astype('float64'))\n",
    "    \n",
    "    # in a linearised version of cobb douglass (by taking the log of the equation) we get the log of TFP as a constant, in order to find it, we need to explicitly insert it\n",
    "    X['TFP'] = 1\n",
    "    \n",
    "    # taking the log of the dependant variable (GDP) as per the lin version of cobb douglass\n",
    "    y = np.log(y.astype('float64'))\n",
    "\n",
    "    return X, y"
   ]
  },
  {
   "cell_type": "markdown",
   "id": "38fde535-d103-451b-89cf-e8851615b1ce",
   "metadata": {},
   "source": [
    "### Constant model function"
   ]
  },
  {
   "cell_type": "code",
   "execution_count": null,
   "id": "858b7543-590e-4a66-a318-2db0a7a5c228",
   "metadata": {},
   "outputs": [],
   "source": [
    "# defining the MSE Function to minimize\n",
    "def mse_loss(weights, X, y):\n",
    "    # x_, x0, x1, x2 = x\n",
    "    y_pred = X.dot(weights)\n",
    "    return np.mean((y - y_pred) ** 2)"
   ]
  },
  {
   "cell_type": "code",
   "execution_count": null,
   "id": "d8693d54-65b7-4c75-8739-98ffba564df4",
   "metadata": {},
   "outputs": [],
   "source": [
    "def constant_cobb_douglass_model(data_df):\n",
    "\n",
    "    # formatting the data\n",
    "    X, y = total_factor_productivity_data_prep(data_df)\n",
    "\n",
    "\n",
    "    # initial guess (all ones cause why not, it dont really matter)\n",
    "    initial_guess = np.ones(len(X.T))*0.5\n",
    "    \n",
    "    # bounds (common bounds, elasticity and TFP are positive, but the last one doesnt have an upper bound \n",
    "    bounds = [(0, 1), (0, 1), (0, np.inf)]\n",
    "    \n",
    "    # constraints (assuming constant return to scale, thus the ealsticities must sum to 1)\n",
    "    constraints = [\n",
    "        {'type': 'eq'\n",
    "         , 'fun': lambda weights: weights[0] + weights[1] - 1       # x1 + x2 = 1 (equality: x1 + x2 - 1 = 0)\n",
    "        }\n",
    "    ]\n",
    "    \n",
    "    # minimizing the mse function\n",
    "    result = minimize(\n",
    "        mse_loss,\n",
    "        initial_guess,\n",
    "        args=(X, y),\n",
    "        method='trust-constr',\n",
    "        bounds=bounds,\n",
    "        constraints=constraints,\n",
    "        options={'disp': True\n",
    "                 , 'maxiter': 15000\n",
    "                }\n",
    "    )\n",
    "    \n",
    "    constant_elasticities_and_tfp_model_gdp = data_df['Capital stock (current US$)'] ** result.x[0] \\\n",
    "                                            * data_df['Labor force, total']** result.x[1] \\\n",
    "                                            * np.e ** result.x[2]\n",
    "    \n",
    "    constant_model_actual_mse = np.mean((constant_elasticities_and_tfp_model_gdp - data_df['GDP (current US$)']) ** 2)\n",
    "\n",
    "    # Store results\n",
    "    cobb_douglass_df = {'Capital stock elasticity (constant)': result.x[0]\n",
    "                        , 'Labor force elasticity (constant)': result.x[1]\n",
    "                        , 'Total factor productivity (constant)': np.e ** result.x[2]\n",
    "                        # , 'Mean Squared Error': constant_model_actual_mse\n",
    "                       }\n",
    "        \n",
    "    cobb_douglass_df = pd.DataFrame(data = np.array(list(cobb_douglass_df.values())).reshape(1, 3)\n",
    "                                    , columns = cobb_douglass_df.keys()\n",
    "                                   )\n",
    "    \n",
    "    return cobb_douglass_df, constant_elasticities_and_tfp_model_gdp"
   ]
  },
  {
   "cell_type": "markdown",
   "id": "65692e4e-e7bf-46b5-b3b5-69b840804a57",
   "metadata": {},
   "source": [
    "### Evolving model function "
   ]
  },
  {
   "cell_type": "code",
   "execution_count": null,
   "id": "30dc4cb4-1c45-473e-a073-4b358c4b8849",
   "metadata": {},
   "outputs": [],
   "source": [
    "# defining the MSE Function to minimize\n",
    "def mse_loss_window(weights, X_window, y_window):\n",
    "    # x_, x0, x1, x2 = x\n",
    "    y_pred = X_window.dot(weights)\n",
    "    return np.mean((y_window - y_pred) ** 2)"
   ]
  },
  {
   "cell_type": "code",
   "execution_count": null,
   "id": "4025c5df-5bb0-43e3-a72c-61fa1351e026",
   "metadata": {},
   "outputs": [],
   "source": [
    "def evolving_cobb_douglass_model(data_df, window_size):\n",
    "\n",
    "    # formatting the data\n",
    "    X, y = total_factor_productivity_data_prep(data_df)\n",
    "    \n",
    "    results = []\n",
    "    # window_size = 5\n",
    "    \n",
    "    for i in range(len(data_df['Year']) - window_size + 1):\n",
    "        # Extract the current window\n",
    "        X_window = X[i : i + window_size]\n",
    "        y_window = y[i : i + window_size]\n",
    "        \n",
    "        # setting the initial guess (it doesnt really matter)\n",
    "        if i == min(range(len(data_df['Year']) - window_size + 1)):\n",
    "            initial_guess = np.ones(len(X.T))*0.5\n",
    "        \n",
    "        # bounds (common bounds, elasticity and TFP are positive, but the latter doesnt have an upper bound \n",
    "        bounds = [(0, 1), (0, 1), (0, np.inf)]\n",
    "    \n",
    "        # constraints (assuming constant return to scale, thus the ealsticities must sum to 1)\n",
    "        constraints = [\n",
    "            {'type': 'eq'\n",
    "             , 'fun': lambda weights: weights[0] + weights[1] - 1       # x1 + x2 = 1 (equality: x1 + x2 - 1 = 0)\n",
    "            }\n",
    "        ]\n",
    "        \n",
    "        # minimizing the mse function\n",
    "        result = minimize(\n",
    "            mse_loss_window,\n",
    "            initial_guess,\n",
    "            args=(X_window, y_window),\n",
    "            method='trust-constr',\n",
    "            bounds=bounds,\n",
    "            constraints=constraints,\n",
    "            options={'disp': True\n",
    "                     , 'maxiter': 15000\n",
    "                    }\n",
    "        )\n",
    "    \n",
    "        initial_guess = result.x\n",
    "        \n",
    "        evolving_elasticities_and_tfp_model_gdp = data_df['Capital stock (current US$)'] ** result.x[0] \\\n",
    "                                                * data_df['Labor force, total']** result.x[1] \\\n",
    "                                                * np.e ** result.x[2]\n",
    "        \n",
    "        evolving_model_actual_mse = np.mean((evolving_elasticities_and_tfp_model_gdp - data_df['GDP (current US$)']) ** 2)\n",
    "    \n",
    "        # Store results\n",
    "        results.append({\n",
    "            'Start': data_df['Year'][i],\n",
    "            'Year': data_df['Year'][i + window_size - 1],\n",
    "            'Capital stock elasticity (evolving)': result.x[0],\n",
    "            'Labor force elasticity (evolving)': result.x[1],\n",
    "            'Total factor productivity (evolving)': np.e ** result.x[2],\n",
    "            # 'Mean Squared Error': evolving_model_actual_mse\n",
    "        })\n",
    "        \n",
    "    cobb_douglass_df = pd.DataFrame(results)\n",
    "\n",
    "    evolving_model_df = data_df[['Year','GDP (current US$)']]\n",
    "\n",
    "    for i in range(len(data_df['Year']) - window_size + 1):\n",
    "    \n",
    "        Start = data_df['Year'][i]\n",
    "        End = data_df['Year'][i + window_size - 1]\n",
    "        \n",
    "        five_year_sample_df = data_df[data_df['Year'].between(Start, End)]\n",
    "        cobb_douglass = cobb_douglass_df[cobb_douglass_df['Start']==data_df['Year'][i]].reset_index(drop=True)\n",
    "        five_year_sample_df[f'''GDP (current US$)_model_{End}'''] = five_year_sample_df['Capital stock (current US$)'] ** cobb_douglass['Capital stock elasticity (evolving)'][0] \\\n",
    "                                                                            * five_year_sample_df['Labor force, total'] ** cobb_douglass['Labor force elasticity (evolving)'][0] \\\n",
    "                                                                            * cobb_douglass['Total factor productivity (evolving)'][0]\n",
    "        \n",
    "        evolving_model_df = pd.merge(evolving_model_df, five_year_sample_df[['Year',f'''GDP (current US$)_model_{End}''']], how='left', on=['Year'])\n",
    "    \n",
    "    evolving_model_df['Evolving elasticities and TFP model GDP'] = evolving_model_df[evolving_model_df.columns[2:]].T.mean()\n",
    "    evolving_elasticities_and_tfp_model_gdp = evolving_model_df['Evolving elasticities and TFP model GDP']\n",
    "    \n",
    "    return cobb_douglass_df, evolving_model_df, evolving_elasticities_and_tfp_model_gdp"
   ]
  },
  {
   "cell_type": "code",
   "execution_count": null,
   "id": "69a692a3-7278-44d7-a7d6-384a4fe94273",
   "metadata": {},
   "outputs": [],
   "source": []
  },
  {
   "cell_type": "markdown",
   "id": "f1ddd669-0143-4d3a-9624-4fad77dc4429",
   "metadata": {},
   "source": [
    "## China"
   ]
  },
  {
   "cell_type": "code",
   "execution_count": null,
   "id": "f33ff4b2-7395-4153-8164-21855de479bc",
   "metadata": {},
   "outputs": [],
   "source": [
    "china_cobb_doulgass_data_df = cobb_doulgass_data_df[cobb_doulgass_data_df['Country Code']=='CHN']"
   ]
  },
  {
   "cell_type": "code",
   "execution_count": null,
   "id": "7d2e0100-f8ae-4748-8bec-6349617199f8",
   "metadata": {},
   "outputs": [],
   "source": [
    "china_cobb_doulgass_data_df = china_cobb_doulgass_data_df.pivot_table(index=['Year'],\n",
    "                                                                      columns=['Indicator Name'],\n",
    "                                                                      values=['Value'],\n",
    "                                                                      aggfunc='sum')"
   ]
  },
  {
   "cell_type": "code",
   "execution_count": null,
   "id": "160085d3-6f2d-4fd7-8448-6c68bf95eda6",
   "metadata": {},
   "outputs": [],
   "source": [
    "china_cobb_doulgass_data_df.columns = china_cobb_doulgass_data_df.columns.droplevel(0)"
   ]
  },
  {
   "cell_type": "code",
   "execution_count": null,
   "id": "27ad3bc5-03ee-427f-9249-f13d4a868d35",
   "metadata": {},
   "outputs": [],
   "source": [
    "china_cobb_doulgass_data_df.reset_index(drop=False\n",
    "                                        , inplace=True)"
   ]
  },
  {
   "cell_type": "code",
   "execution_count": null,
   "id": "7e0e6fca-4b37-4256-9f3e-34513f8e1c03",
   "metadata": {},
   "outputs": [],
   "source": [
    "china_cobb_doulgass_data_df = china_cobb_doulgass_data_df[['Year'\n",
    "                                                           , 'Capital stock (current US$)'\n",
    "                                                           , 'Labor force, total'\n",
    "                                                           , 'GDP (current US$)'\n",
    "                                                          ]]"
   ]
  },
  {
   "cell_type": "markdown",
   "id": "f7e8591c-fd46-4405-b352-ff28cc2cb07c",
   "metadata": {},
   "source": [
    "### constant TFP and elasticities"
   ]
  },
  {
   "cell_type": "code",
   "execution_count": null,
   "id": "58fbbcf1-f67f-4a3a-93d0-b72d14c44179",
   "metadata": {},
   "outputs": [],
   "source": [
    "china_constant_cobb_douglass_df, china_constant_model_gdp = constant_cobb_douglass_model(china_cobb_doulgass_data_df)"
   ]
  },
  {
   "cell_type": "code",
   "execution_count": null,
   "id": "50b11154-a7b9-435d-84de-a74a7e10852d",
   "metadata": {},
   "outputs": [],
   "source": [
    "china_constant_cobb_douglass_df = pd.concat([china_cobb_doulgass_data_df[['Year']], china_constant_cobb_douglass_df], axis = 1)"
   ]
  },
  {
   "cell_type": "code",
   "execution_count": null,
   "id": "619a3f14-5648-4075-affa-4a1d3bdba8a2",
   "metadata": {},
   "outputs": [],
   "source": [
    "china_constant_cobb_douglass_df['Capital stock elasticity (constant)'] = china_constant_cobb_douglass_df['Capital stock elasticity (constant)'].ffill()\n",
    "china_constant_cobb_douglass_df['Labor force elasticity (constant)'] = china_constant_cobb_douglass_df['Labor force elasticity (constant)'].ffill()\n",
    "china_constant_cobb_douglass_df['Total factor productivity (constant)'] = china_constant_cobb_douglass_df['Total factor productivity (constant)'].ffill()"
   ]
  },
  {
   "cell_type": "code",
   "execution_count": null,
   "id": "b8a1169f-efcb-4ece-89bd-b4c6c039960c",
   "metadata": {},
   "outputs": [],
   "source": [
    "china_constant_cobb_douglass_df = pd.melt(china_constant_cobb_douglass_df, id_vars=list(china_constant_cobb_douglass_df.columns)[:1], value_vars=list(china_constant_cobb_douglass_df.columns)[1:])"
   ]
  },
  {
   "cell_type": "code",
   "execution_count": null,
   "id": "3c709e09-59c5-4ff6-b552-5e61857c3f63",
   "metadata": {},
   "outputs": [],
   "source": [
    "china_constant_cobb_douglass_df.rename(columns={'value': 'Value'\n",
    "                                            , 'variable': 'Indicator Name'\n",
    "                                           }\n",
    "                                   , inplace=True)"
   ]
  },
  {
   "cell_type": "code",
   "execution_count": null,
   "id": "26ca2800-e692-47b1-906b-c36e5c1ea59e",
   "metadata": {},
   "outputs": [],
   "source": [
    "china_constant_cobb_douglass_df['Country Name'] = 'China'\n",
    "china_constant_cobb_douglass_df['Country Code'] = 'CHN'\n",
    "china_constant_cobb_douglass_df['Indicator Code'] = china_constant_cobb_douglass_df['Indicator Name'].apply(lambda x: 'CALC.CDM.CONST.CAPITAL.ELAST.CD' if x == 'Capital stock elasticity (constant)' \n",
    "                                                                                                    else 'CALC.CDM.CONST.LABOR.ELAST.CD' if x == 'Labor force elasticity (constant)'\n",
    "                                                                                                    else 'CALC.CDM.CONST.TFP.CD')\n",
    "china_constant_cobb_douglass_df['Source'] = 'Calculated by author'"
   ]
  },
  {
   "cell_type": "code",
   "execution_count": null,
   "id": "bcd02ac2-acc5-47b5-980d-d32a4e0f13b4",
   "metadata": {},
   "outputs": [],
   "source": [
    "china_constant_cobb_douglass_df = china_constant_cobb_douglass_df[['Country Name'\n",
    "                                                                   , 'Country Code'\n",
    "                                                                   , 'Indicator Name'\n",
    "                                                                   , 'Indicator Code'\n",
    "                                                                   , 'Year'\n",
    "                                                                   , 'Value'\n",
    "                                                                   , 'Source']]"
   ]
  },
  {
   "cell_type": "markdown",
   "id": "34e24dbc-5f21-4dff-af02-e147d652a3c8",
   "metadata": {},
   "source": [
    "### evolving TFP and elasticities"
   ]
  },
  {
   "cell_type": "code",
   "execution_count": null,
   "id": "8879fae6-3616-4484-b9ac-483cfc4e46c0",
   "metadata": {},
   "outputs": [],
   "source": [
    "china_evolving_cobb_douglass_df, china_evolving_evolving_model_df, china_evolving_model_gdp = evolving_cobb_douglass_model(china_cobb_doulgass_data_df, 5)"
   ]
  },
  {
   "cell_type": "code",
   "execution_count": null,
   "id": "ca437097-1cdc-48a0-8726-5aa4fb371b89",
   "metadata": {},
   "outputs": [],
   "source": [
    "china_evolving_cobb_douglass_df.rename(columns={'End': 'Year'\n",
    "                                                 }\n",
    "                                      , inplace=True)"
   ]
  },
  {
   "cell_type": "code",
   "execution_count": null,
   "id": "ef5717ce-d181-4b6b-b0fd-f847689caef4",
   "metadata": {},
   "outputs": [],
   "source": [
    "china_evolving_cobb_douglass_df = china_evolving_cobb_douglass_df[['Year'\n",
    "                                                                   , 'Capital stock elasticity (evolving)'\n",
    "                                                                   , 'Labor force elasticity (evolving)'\n",
    "                                                                   , 'Total factor productivity (evolving)'\n",
    "                                                                  ]]"
   ]
  },
  {
   "cell_type": "code",
   "execution_count": null,
   "id": "a7c4bb0b-751b-4f73-a583-4ff39d040259",
   "metadata": {},
   "outputs": [],
   "source": [
    "china_evolving_cobb_douglass_df = pd.melt(china_evolving_cobb_douglass_df, id_vars=list(china_evolving_cobb_douglass_df.columns)[:1], value_vars=list(china_evolving_cobb_douglass_df.columns)[1:])"
   ]
  },
  {
   "cell_type": "code",
   "execution_count": null,
   "id": "2a09d2d5-3f76-4eca-b947-cd2b1c36313a",
   "metadata": {},
   "outputs": [],
   "source": [
    "china_evolving_cobb_douglass_df.rename(columns={'value': 'Value'\n",
    "                                            , 'variable': 'Indicator Name'\n",
    "                                           }\n",
    "                                   , inplace=True)"
   ]
  },
  {
   "cell_type": "code",
   "execution_count": null,
   "id": "05870dc3-a4e8-478f-8ec8-b76dd15c5ce1",
   "metadata": {},
   "outputs": [],
   "source": [
    "china_evolving_cobb_douglass_df['Country Name'] = 'China'\n",
    "china_evolving_cobb_douglass_df['Country Code'] = 'CHN'\n",
    "china_evolving_cobb_douglass_df['Indicator Code'] = china_evolving_cobb_douglass_df['Indicator Name'].apply(lambda x: 'CALC.CDM.EVOLV.CAPITAL.ELAST.CD' if x == 'Capital stock elasticity (evolving)'\n",
    "                                                                                                    else 'CALC.CDM.EVOLV.LABOR.ELAST.CD' if x == 'Labor force elasticity (evolving)'\n",
    "                                                                                                    else 'CALC.CDM.EVOLV.TFP.CD')\n",
    "china_evolving_cobb_douglass_df['Source'] = 'Calculated by author'"
   ]
  },
  {
   "cell_type": "code",
   "execution_count": null,
   "id": "654cea49-f970-4f97-8c73-14fb5e02ac35",
   "metadata": {},
   "outputs": [],
   "source": [
    "china_evolving_cobb_douglass_df = china_evolving_cobb_douglass_df[['Country Name'\n",
    "                                                                   , 'Country Code'\n",
    "                                                                   , 'Indicator Name'\n",
    "                                                                   , 'Indicator Code'\n",
    "                                                                   , 'Year'\n",
    "                                                                   , 'Value'\n",
    "                                                                   , 'Source']]"
   ]
  },
  {
   "cell_type": "markdown",
   "id": "149132fb-305f-4a8b-97c8-129b232a9b2f",
   "metadata": {},
   "source": [
    "### Formatting"
   ]
  },
  {
   "cell_type": "markdown",
   "id": "894ce4be-b297-4820-b873-9ee3d0c57425",
   "metadata": {},
   "source": [
    "#### cobb_douglass"
   ]
  },
  {
   "cell_type": "code",
   "execution_count": null,
   "id": "827559a0-139a-4c2a-95d4-996e833dd452",
   "metadata": {},
   "outputs": [],
   "source": [
    "china_cobb_douglass_df = pd.concat([china_constant_cobb_douglass_df, china_evolving_cobb_douglass_df]).reset_index(drop=True)"
   ]
  },
  {
   "cell_type": "markdown",
   "id": "d6b8e234-f044-4d39-86a1-16a9966e1863",
   "metadata": {},
   "source": [
    "#### models"
   ]
  },
  {
   "cell_type": "code",
   "execution_count": null,
   "id": "2e84c288-b5bb-49df-89cf-d1b8c724d513",
   "metadata": {},
   "outputs": [],
   "source": [
    "china_cobb_doulgass_data_df['Evolving model GDP'] = china_evolving_model_gdp\n",
    "china_cobb_doulgass_data_df['Constant model GDP'] = china_constant_model_gdp"
   ]
  },
  {
   "cell_type": "code",
   "execution_count": null,
   "id": "9db347e9-831b-4ac4-ac98-0268222edf0d",
   "metadata": {},
   "outputs": [],
   "source": [
    "china_cobb_doulgass_data_df = china_cobb_doulgass_data_df[['Year'\n",
    "                                                           , 'Evolving model GDP'\n",
    "                                                           , 'Constant model GDP'\n",
    "                                                          ]]"
   ]
  },
  {
   "cell_type": "code",
   "execution_count": null,
   "id": "2f3e47a2-1fcf-4d7b-be9d-fa15514b9a52",
   "metadata": {},
   "outputs": [],
   "source": [
    "china_cobb_doulgass_data_df = pd.melt(china_cobb_doulgass_data_df, id_vars=list(china_cobb_doulgass_data_df.columns)[:1], value_vars=list(china_cobb_doulgass_data_df.columns)[1:])"
   ]
  },
  {
   "cell_type": "code",
   "execution_count": null,
   "id": "297784c4-c977-4b40-837e-edd5ca25807b",
   "metadata": {},
   "outputs": [],
   "source": [
    "china_cobb_doulgass_data_df.rename(columns={'value': 'Value'\n",
    "                                           }\n",
    "                                   , inplace=True)"
   ]
  },
  {
   "cell_type": "code",
   "execution_count": null,
   "id": "11dd2831-7211-433b-8356-130b4348278b",
   "metadata": {},
   "outputs": [],
   "source": [
    "china_cobb_doulgass_data_df['Country Name'] = 'China'\n",
    "china_cobb_doulgass_data_df['Country Code'] = 'CHN'\n",
    "china_cobb_doulgass_data_df['Indicator Code'] = china_cobb_doulgass_data_df['Indicator Name'].apply(lambda x: 'CALC.CDM.EVOLV.GDP.CD' if x == 'Evolving model GDP'\n",
    "                                                                                                    else 'CALC.CDM.CONST.GDP.CD')\n",
    "china_cobb_doulgass_data_df['Source'] = 'Calculated by author'"
   ]
  },
  {
   "cell_type": "code",
   "execution_count": null,
   "id": "ac15674d-25fe-4ffe-ac77-b76a461eaa8e",
   "metadata": {},
   "outputs": [],
   "source": [
    "china_cobb_doulgass_data_df = china_cobb_doulgass_data_df[['Country Name'\n",
    "                                                           , 'Country Code'\n",
    "                                                           , 'Indicator Name'\n",
    "                                                           , 'Indicator Code'\n",
    "                                                           , 'Year'\n",
    "                                                           , 'Value'\n",
    "                                                           , 'Source']]"
   ]
  },
  {
   "cell_type": "markdown",
   "id": "eee8e34a-5caa-4dbf-b9ab-c98215a8be34",
   "metadata": {},
   "source": [
    "## India"
   ]
  },
  {
   "cell_type": "code",
   "execution_count": null,
   "id": "82bb4a6a-5c3c-45e7-88be-de3059d07522",
   "metadata": {},
   "outputs": [],
   "source": [
    "india_cobb_doulgass_data_df = cobb_doulgass_data_df[cobb_doulgass_data_df['Country Code']=='IND']"
   ]
  },
  {
   "cell_type": "code",
   "execution_count": null,
   "id": "41d31ca7-958b-4525-912c-e3f0121215d5",
   "metadata": {},
   "outputs": [],
   "source": [
    "india_cobb_doulgass_data_df = india_cobb_doulgass_data_df.pivot_table(index=['Year'],\n",
    "                                                                      columns=['Indicator Name'],\n",
    "                                                                      values=['Value'],\n",
    "                                                                      aggfunc='sum')"
   ]
  },
  {
   "cell_type": "code",
   "execution_count": null,
   "id": "e6b37614-4263-436a-88db-6a44cf9edccd",
   "metadata": {},
   "outputs": [],
   "source": [
    "india_cobb_doulgass_data_df.columns = india_cobb_doulgass_data_df.columns.droplevel(0)"
   ]
  },
  {
   "cell_type": "code",
   "execution_count": null,
   "id": "dca4b0f8-de0b-4985-a7b4-fa1b7670affa",
   "metadata": {},
   "outputs": [],
   "source": [
    "india_cobb_doulgass_data_df.reset_index(drop=False\n",
    "                                        , inplace=True)"
   ]
  },
  {
   "cell_type": "code",
   "execution_count": null,
   "id": "67a6c01e-2cbf-43f3-b96b-e4d43ee7fdfe",
   "metadata": {},
   "outputs": [],
   "source": [
    "india_cobb_doulgass_data_df = india_cobb_doulgass_data_df[['Year'\n",
    "                                                           , 'Capital stock (current US$)'\n",
    "                                                           , 'Labor force, total'\n",
    "                                                           , 'GDP (current US$)'\n",
    "                                                          ]]"
   ]
  },
  {
   "cell_type": "markdown",
   "id": "886d0a74-8814-4789-8f90-cff26c56a299",
   "metadata": {},
   "source": [
    "### constant TFP and elasticities"
   ]
  },
  {
   "cell_type": "code",
   "execution_count": null,
   "id": "0a9c264d-8857-4e40-85d0-827362bc57cf",
   "metadata": {},
   "outputs": [],
   "source": [
    "india_constant_cobb_douglass_df, india_constant_model_gdp = constant_cobb_douglass_model(india_cobb_doulgass_data_df)"
   ]
  },
  {
   "cell_type": "code",
   "execution_count": null,
   "id": "e5c8feb9-d4ab-4449-b71b-c3de1479c0d0",
   "metadata": {},
   "outputs": [],
   "source": [
    "india_constant_cobb_douglass_df = pd.concat([india_cobb_doulgass_data_df[['Year']], india_constant_cobb_douglass_df], axis = 1)"
   ]
  },
  {
   "cell_type": "code",
   "execution_count": null,
   "id": "9731f902-3e23-4041-80dd-0e9002618e07",
   "metadata": {},
   "outputs": [],
   "source": [
    "india_constant_cobb_douglass_df['Capital stock elasticity (constant)'] = india_constant_cobb_douglass_df['Capital stock elasticity (constant)'].ffill()\n",
    "india_constant_cobb_douglass_df['Labor force elasticity (constant)'] = india_constant_cobb_douglass_df['Labor force elasticity (constant)'].ffill()\n",
    "india_constant_cobb_douglass_df['Total factor productivity (constant)'] = india_constant_cobb_douglass_df['Total factor productivity (constant)'].ffill()"
   ]
  },
  {
   "cell_type": "code",
   "execution_count": null,
   "id": "f84e7d8e-bbab-486b-922b-9d1bdf76dd4d",
   "metadata": {},
   "outputs": [],
   "source": [
    "india_constant_cobb_douglass_df = pd.melt(india_constant_cobb_douglass_df, id_vars=list(india_constant_cobb_douglass_df.columns)[:1], value_vars=list(india_constant_cobb_douglass_df.columns)[1:])"
   ]
  },
  {
   "cell_type": "code",
   "execution_count": null,
   "id": "e784813d-561a-41d8-8d70-432da8cb4917",
   "metadata": {},
   "outputs": [],
   "source": [
    "india_constant_cobb_douglass_df.rename(columns={'value': 'Value'\n",
    "                                            , 'variable': 'Indicator Name'\n",
    "                                           }\n",
    "                                   , inplace=True)"
   ]
  },
  {
   "cell_type": "code",
   "execution_count": null,
   "id": "78106c6a-63ec-4e03-aa24-4e9663be3131",
   "metadata": {},
   "outputs": [],
   "source": [
    "india_constant_cobb_douglass_df['Country Name'] = 'India'\n",
    "india_constant_cobb_douglass_df['Country Code'] = 'IND'\n",
    "india_constant_cobb_douglass_df['Indicator Code'] = india_constant_cobb_douglass_df['Indicator Name'].apply(lambda x: 'CALC.CDM.CONST.CAPITAL.ELAST.CD' if x == 'Capital stock elasticity (constant)' \n",
    "                                                                                                    else 'CALC.CDM.CONST.LABOR.ELAST.CD' if x == 'Labor force elasticity (constant)'\n",
    "                                                                                                    else 'CALC.CDM.CONST.TFP.CD')\n",
    "india_constant_cobb_douglass_df['Source'] = 'Calculated by author'"
   ]
  },
  {
   "cell_type": "code",
   "execution_count": null,
   "id": "9e1a1a90-5607-41b6-9ab2-f44c5b72cb5d",
   "metadata": {},
   "outputs": [],
   "source": [
    "india_constant_cobb_douglass_df = india_constant_cobb_douglass_df[['Country Name'\n",
    "                                                                   , 'Country Code'\n",
    "                                                                   , 'Indicator Name'\n",
    "                                                                   , 'Indicator Code'\n",
    "                                                                   , 'Year'\n",
    "                                                                   , 'Value'\n",
    "                                                                   , 'Source']]"
   ]
  },
  {
   "cell_type": "markdown",
   "id": "3a8739c0-1d9e-4e32-ba0c-d81407b18eb0",
   "metadata": {},
   "source": [
    "### evolving TFP and elasticities"
   ]
  },
  {
   "cell_type": "code",
   "execution_count": null,
   "id": "ff843ade-c0f0-4208-852c-3a37f6a0a859",
   "metadata": {
    "scrolled": true
   },
   "outputs": [],
   "source": [
    "india_evolving_cobb_douglass_df, india_evolving_evolving_model_df, india_evolving_model_gdp = evolving_cobb_douglass_model(india_cobb_doulgass_data_df, 5)"
   ]
  },
  {
   "cell_type": "code",
   "execution_count": null,
   "id": "0eae1cc6-d97a-488f-ad90-9476d935c0fc",
   "metadata": {},
   "outputs": [],
   "source": [
    "india_evolving_cobb_douglass_df.rename(columns={'End': 'Year'\n",
    "                                                 }\n",
    "                                      , inplace=True)"
   ]
  },
  {
   "cell_type": "code",
   "execution_count": null,
   "id": "71a214d6-474a-417c-a2ba-fa8c96579279",
   "metadata": {},
   "outputs": [],
   "source": [
    "india_evolving_cobb_douglass_df = india_evolving_cobb_douglass_df[['Year'\n",
    "                                                                   , 'Capital stock elasticity (evolving)'\n",
    "                                                                   , 'Labor force elasticity (evolving)'\n",
    "                                                                   , 'Total factor productivity (evolving)'\n",
    "                                                                  ]]"
   ]
  },
  {
   "cell_type": "code",
   "execution_count": null,
   "id": "9728200c-6389-485a-a5c5-65eacec3f358",
   "metadata": {},
   "outputs": [],
   "source": [
    "india_evolving_cobb_douglass_df = pd.melt(india_evolving_cobb_douglass_df, id_vars=list(india_evolving_cobb_douglass_df.columns)[:1], value_vars=list(india_evolving_cobb_douglass_df.columns)[1:])"
   ]
  },
  {
   "cell_type": "code",
   "execution_count": null,
   "id": "fa2eba5c-36cf-47ff-9a95-1310768ab618",
   "metadata": {},
   "outputs": [],
   "source": [
    "india_evolving_cobb_douglass_df.rename(columns={'value': 'Value'\n",
    "                                            , 'variable': 'Indicator Name'\n",
    "                                           }\n",
    "                                   , inplace=True)"
   ]
  },
  {
   "cell_type": "code",
   "execution_count": null,
   "id": "bb296b6f-e095-4174-9a47-4a7acdc18065",
   "metadata": {},
   "outputs": [],
   "source": [
    "india_evolving_cobb_douglass_df['Country Name'] = 'India'\n",
    "india_evolving_cobb_douglass_df['Country Code'] = 'IND'\n",
    "india_evolving_cobb_douglass_df['Indicator Code'] = india_evolving_cobb_douglass_df['Indicator Name'].apply(lambda x: 'CALC.CDM.EVOLV.CAPITAL.ELAST.CD' if x == 'Capital stock elasticity (evolving)'\n",
    "                                                                                                    else 'CALC.CDM.EVOLV.LABOR.ELAST.CD' if x == 'Labor force elasticity (evolving)'\n",
    "                                                                                                    else 'CALC.CDM.EVOLV.TFP.CD')\n",
    "india_evolving_cobb_douglass_df['Source'] = 'Calculated by author'"
   ]
  },
  {
   "cell_type": "code",
   "execution_count": null,
   "id": "f1884742-5438-4eca-bc1a-c0fe850632c3",
   "metadata": {},
   "outputs": [],
   "source": [
    "india_evolving_cobb_douglass_df = india_evolving_cobb_douglass_df[['Country Name'\n",
    "                                                                   , 'Country Code'\n",
    "                                                                   , 'Indicator Name'\n",
    "                                                                   , 'Indicator Code'\n",
    "                                                                   , 'Year'\n",
    "                                                                   , 'Value'\n",
    "                                                                   , 'Source']]"
   ]
  },
  {
   "cell_type": "markdown",
   "id": "4330480f-f8fa-4601-85cd-f92e3588a422",
   "metadata": {},
   "source": [
    "### Formatting"
   ]
  },
  {
   "cell_type": "markdown",
   "id": "219ff0d1-39d2-4e5b-8337-c0ef826a193f",
   "metadata": {},
   "source": [
    "#### cobb_douglass"
   ]
  },
  {
   "cell_type": "code",
   "execution_count": null,
   "id": "8e8073cf-498b-4992-b79c-575251212d84",
   "metadata": {},
   "outputs": [],
   "source": [
    "india_cobb_douglass_df = pd.concat([india_constant_cobb_douglass_df, india_evolving_cobb_douglass_df]).reset_index(drop=True)"
   ]
  },
  {
   "cell_type": "markdown",
   "id": "e59fec6e-a3f0-405c-80f6-57597d02a702",
   "metadata": {},
   "source": [
    "#### models"
   ]
  },
  {
   "cell_type": "code",
   "execution_count": null,
   "id": "bf1c3fa0-57b2-4478-9348-50242041d7db",
   "metadata": {},
   "outputs": [],
   "source": [
    "india_cobb_doulgass_data_df['Evolving model GDP'] = india_evolving_model_gdp\n",
    "india_cobb_doulgass_data_df['Constant model GDP'] = india_constant_model_gdp"
   ]
  },
  {
   "cell_type": "code",
   "execution_count": null,
   "id": "abcf7c4e-76f4-49b0-8182-435f42aef20e",
   "metadata": {},
   "outputs": [],
   "source": [
    "india_cobb_doulgass_data_df = india_cobb_doulgass_data_df[['Year'\n",
    "                                                           , 'Evolving model GDP'\n",
    "                                                           , 'Constant model GDP'\n",
    "                                                          ]]"
   ]
  },
  {
   "cell_type": "code",
   "execution_count": null,
   "id": "1fb93174-40f0-4752-8d48-6c4bbedc9a9c",
   "metadata": {},
   "outputs": [],
   "source": [
    "india_cobb_doulgass_data_df = pd.melt(india_cobb_doulgass_data_df, id_vars=list(india_cobb_doulgass_data_df.columns)[:1], value_vars=list(india_cobb_doulgass_data_df.columns)[1:])"
   ]
  },
  {
   "cell_type": "code",
   "execution_count": null,
   "id": "285a72e2-8e78-4e8b-bd9f-f402eda0ee67",
   "metadata": {},
   "outputs": [],
   "source": [
    "india_cobb_doulgass_data_df.rename(columns={'value': 'Value'\n",
    "                                           }\n",
    "                                   , inplace=True)"
   ]
  },
  {
   "cell_type": "code",
   "execution_count": null,
   "id": "4d959309-de46-4c15-b106-72de0a46ce2b",
   "metadata": {},
   "outputs": [],
   "source": [
    "india_cobb_doulgass_data_df['Country Name'] = 'India'\n",
    "india_cobb_doulgass_data_df['Country Code'] = 'IND'\n",
    "india_cobb_doulgass_data_df['Indicator Code'] = india_cobb_doulgass_data_df['Indicator Name'].apply(lambda x: 'CALC.CDM.EVOLV.GDP.CD' if x == 'Evolving model GDP'\n",
    "                                                                                                    else 'CALC.CDM.CONST.GDP.CD')\n",
    "india_cobb_doulgass_data_df['Source'] = 'Calculated by author'"
   ]
  },
  {
   "cell_type": "code",
   "execution_count": null,
   "id": "759f903f-3781-4686-84ca-61ba000d0893",
   "metadata": {},
   "outputs": [],
   "source": [
    "india_cobb_doulgass_data_df = india_cobb_doulgass_data_df[['Country Name'\n",
    "                                                           , 'Country Code'\n",
    "                                                           , 'Indicator Name'\n",
    "                                                           , 'Indicator Code'\n",
    "                                                           , 'Year'\n",
    "                                                           , 'Value'\n",
    "                                                           , 'Source']]"
   ]
  },
  {
   "cell_type": "markdown",
   "id": "39e802b1-1987-464f-96e0-1312eb525368",
   "metadata": {},
   "source": [
    "# Stitiching and exporting"
   ]
  },
  {
   "cell_type": "code",
   "execution_count": null,
   "id": "e9e7cff3-d835-4d72-abc8-c52d9b52c6bd",
   "metadata": {},
   "outputs": [],
   "source": [
    "pd.concat([india_cobb_doulgass_data_df\n",
    "           , india_cobb_douglass_df\n",
    "           , china_cobb_doulgass_data_df\n",
    "           , china_cobb_douglass_df\n",
    "           , cobb_doulgass_data_df]).to_excel(r'cobb_doulgass_calculation/cobb_doulgass_calculated_data.xlsx', index=False)"
   ]
  },
  {
   "cell_type": "code",
   "execution_count": null,
   "id": "d4706530-274e-4e30-a905-c6366e11fcb6",
   "metadata": {},
   "outputs": [],
   "source": []
  }
 ],
 "metadata": {
  "kernelspec": {
   "display_name": "Python 3 (ipykernel)",
   "language": "python",
   "name": "python3"
  },
  "language_info": {
   "codemirror_mode": {
    "name": "ipython",
    "version": 3
   },
   "file_extension": ".py",
   "mimetype": "text/x-python",
   "name": "python",
   "nbconvert_exporter": "python",
   "pygments_lexer": "ipython3",
   "version": "3.11.7"
  }
 },
 "nbformat": 4,
 "nbformat_minor": 5
}
