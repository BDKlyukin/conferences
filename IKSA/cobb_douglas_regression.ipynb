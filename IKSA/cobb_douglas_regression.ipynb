{
 "cells": [
  {
   "cell_type": "code",
   "execution_count": null,
   "id": "1b8d9033-e650-40f4-a62f-1bec0b81dbb2",
   "metadata": {},
   "outputs": [],
   "source": [
    "import pandas as pd\n",
    "import numpy as np"
   ]
  },
  {
   "cell_type": "code",
   "execution_count": null,
   "id": "54f9af03-c54c-4d57-9d72-020dc9993f75",
   "metadata": {},
   "outputs": [],
   "source": [
    "from scipy.optimize import minimize"
   ]
  },
  {
   "cell_type": "code",
   "execution_count": null,
   "id": "0423c7ae-19cf-4dd9-9bd3-899470a9edd9",
   "metadata": {},
   "outputs": [],
   "source": [
    "from sklearn.metrics import r2_score"
   ]
  },
  {
   "cell_type": "code",
   "execution_count": null,
   "id": "64ed6dc0-f4ed-4dbe-8a3a-0f631054380f",
   "metadata": {},
   "outputs": [],
   "source": [
    "data_df = pd.read_excel(r\"china_cobb_douglas_data.xlsx\")"
   ]
  },
  {
   "cell_type": "code",
   "execution_count": null,
   "id": "5506fe83-e2b6-4162-8aca-5252f2ba3b2e",
   "metadata": {},
   "outputs": [],
   "source": [
    "data_df = data_df.T"
   ]
  },
  {
   "cell_type": "code",
   "execution_count": null,
   "id": "c594fa95-d5d9-453c-854d-368ed2955045",
   "metadata": {},
   "outputs": [],
   "source": [
    "data_df.columns = data_df.iloc[2]"
   ]
  },
  {
   "cell_type": "code",
   "execution_count": null,
   "id": "5809776e-c1d1-4154-ae16-15187cfebc6a",
   "metadata": {},
   "outputs": [],
   "source": [
    "data_df = data_df.reset_index(drop=False)"
   ]
  },
  {
   "cell_type": "code",
   "execution_count": null,
   "id": "173ecbb4-4094-4c39-a3d9-4e009a2bb979",
   "metadata": {},
   "outputs": [],
   "source": [
    "data_df.columns.values[0] = 'report_year'"
   ]
  },
  {
   "cell_type": "code",
   "execution_count": null,
   "id": "603c7e36-4578-4096-9ec4-965613436b98",
   "metadata": {},
   "outputs": [],
   "source": [
    "data_df = data_df[5:-1]"
   ]
  },
  {
   "cell_type": "code",
   "execution_count": null,
   "id": "9618e3f7-96a7-4aa0-b32b-3486ac05bc39",
   "metadata": {},
   "outputs": [],
   "source": [
    "data_df = data_df[data_df['report_year'].between(1978,2023)]"
   ]
  },
  {
   "cell_type": "markdown",
   "id": "16cbecf9-37a4-4496-ace4-877753041ece",
   "metadata": {},
   "source": [
    "# USD"
   ]
  },
  {
   "cell_type": "code",
   "execution_count": null,
   "id": "947d01b1-d504-4b6a-be59-2bf9fa920267",
   "metadata": {},
   "outputs": [],
   "source": [
    "# making a df with the correct currency capital stock and GDP\n",
    "CHINA_current_usd = data_df[['report_year','Capital stock (current US$)', 'Labor force, total', 'GDP (current US$)']].reset_index(drop=True)"
   ]
  },
  {
   "cell_type": "markdown",
   "id": "4399d9ad-72b6-41f1-a230-34fe57db6f54",
   "metadata": {},
   "source": [
    "## 1991-2022"
   ]
  },
  {
   "cell_type": "code",
   "execution_count": null,
   "id": "98af8574-fa7d-411c-8eb2-cbb02ef20a92",
   "metadata": {},
   "outputs": [],
   "source": [
    "# seperating them into the dependant (GDP) and independant (cap stock and labor) variables\n",
    "X = CHINA_current_usd[CHINA_current_usd.columns[1:-1]]\n",
    "y = CHINA_current_usd[CHINA_current_usd.columns[-1]]"
   ]
  },
  {
   "cell_type": "code",
   "execution_count": null,
   "id": "2256aaab-863c-49b2-aad2-fbf2a89a3134",
   "metadata": {},
   "outputs": [],
   "source": [
    "# taking the logs of the data so that the elasticity of the two independant variables would be their coefficicents\n",
    "X[X.columns[0]] = np.log(X[X.columns[0]].astype('float64'))\n",
    "X[X.columns[1]] = np.log(X[X.columns[1]].astype('float64'))\n",
    "\n",
    "# in a linearised version of cobb douglass (by taking the log of the equation) we get the log of TFP as a constant, in order to find it, we need to explicitly insert it\n",
    "X['TFP'] = 1\n",
    "\n",
    "# taking the log of the dependant variable (GDP) as per the lin version of cobb douglass\n",
    "y = np.log(y.astype('float64'))"
   ]
  },
  {
   "cell_type": "code",
   "execution_count": null,
   "id": "068b6b26-df71-472c-b3b4-8fc7e0ee8aab",
   "metadata": {},
   "outputs": [],
   "source": [
    "# defining the MSE Function to minimize\n",
    "def mse_loss(weights, X, y):\n",
    "    # x_, x0, x1, x2 = x\n",
    "    y_pred = X.dot(weights)\n",
    "    return np.mean((y_pred - y) ** 2)\n",
    "\n",
    "# initial guess (all ones cause why not, it dont really matter)\n",
    "initial_guess = np.ones(len(X.T))*0.5\n",
    "\n",
    "# bounds (common bounds, elasticity and TFP are positive, but the last one doesnt have an upper bound \n",
    "bounds = [(0, 1), (0, 1), (0, np.inf)]\n",
    "\n",
    "# constraints (assuming constant return to scale, thus the ealsticities must sum to 1)\n",
    "constraints = [\n",
    "    {'type': 'eq'\n",
    "     , 'fun': lambda weights: weights[0] + weights[1] - 1       # x1 + x2 = 1 (equality: x1 + x2 - 1 = 0)\n",
    "    }\n",
    "]"
   ]
  },
  {
   "cell_type": "code",
   "execution_count": null,
   "id": "0d5e3cb1-8f24-4552-8d4f-275bf4cc1cec",
   "metadata": {},
   "outputs": [],
   "source": [
    "# minimizing the mse function\n",
    "result = minimize(\n",
    "    mse_loss,\n",
    "    initial_guess,\n",
    "    args=(X, y),\n",
    "    method='trust-constr',\n",
    "    bounds=bounds,\n",
    "    constraints=constraints,\n",
    "    options={'disp': True\n",
    "             , 'maxiter': 15000}\n",
    ")"
   ]
  },
  {
   "cell_type": "code",
   "execution_count": null,
   "id": "2d814d50-6d8c-4a61-9fc1-67e099e11e05",
   "metadata": {},
   "outputs": [],
   "source": [
    "cobb_douglass_1978_2023_df = pd.concat([pd.DataFrame(X.columns).T, pd.DataFrame(result.x.round(4)).T]).T\n",
    "cobb_douglass_1978_2023_df.to_excel(r'cobb_douglass_1978_2023.xlsx', index=False)"
   ]
  },
  {
   "cell_type": "code",
   "execution_count": null,
   "id": "034f9795-92dd-4798-8573-b1d6e7264edb",
   "metadata": {},
   "outputs": [],
   "source": [
    "cd_wellness_fit_1978_2023_df = CHINA_current_usd.copy()\n",
    "cd_wellness_fit_1978_2023_df['GDP (current US$)_model'] = cd_wellness_fit_1978_2023_df['Capital stock (current US$)'] ** result.x[0] * cd_wellness_fit_1978_2023_df['Labor force, total'] ** result.x[1] * np.e**result.x[2]\n",
    "cd_wellness_fit_1978_2023_df.to_excel(r'cd_wellness_fit_1978_2023.xlsx', index=False)"
   ]
  },
  {
   "cell_type": "markdown",
   "id": "4467be18-e206-4ed1-a1e1-1b07c2608863",
   "metadata": {},
   "source": [
    "## 1991-2022 (5 year intervals)"
   ]
  },
  {
   "cell_type": "code",
   "execution_count": null,
   "id": "8a985cee-8600-4c6b-ad71-478b71936cf2",
   "metadata": {},
   "outputs": [],
   "source": [
    "# seperating them into the dependant (GDP) and independant (cap stock and labor) variables\n",
    "X = CHINA_current_usd[CHINA_current_usd.columns[1:-1]]\n",
    "y = CHINA_current_usd[CHINA_current_usd.columns[-1]]\n",
    "\n",
    "# taking the logs of the data so that the elasticity of the two independant variables would be their coefficicents\n",
    "X[X.columns[0]] = np.log(X[X.columns[0]].astype('float64'))\n",
    "X[X.columns[1]] = np.log(X[X.columns[1]].astype('float64'))\n",
    "\n",
    "# in a linearised version of cobb douglass (by taking the log of the equation) we get the log of TFP as a constant, in order to find it, we need to explicitly insert it\n",
    "X['TFP'] = 1\n",
    "\n",
    "# taking the log of the dependant variable (GDP) as per the lin version of cobb douglass\n",
    "y = np.log(y.astype('float64'))"
   ]
  },
  {
   "cell_type": "code",
   "execution_count": null,
   "id": "5903251a-fd78-4c36-b9d3-f89ec578762e",
   "metadata": {
    "scrolled": true
   },
   "outputs": [],
   "source": [
    "results = []\n",
    "window_size = 5\n",
    "\n",
    "for i in range(len(CHINA_current_usd['report_year']) - window_size + 1):\n",
    "    # Extract the current window\n",
    "    X_window = X[i : i + window_size]\n",
    "    y_window = y[i : i + window_size]\n",
    "\n",
    "    # defining the MSE Function to minimize\n",
    "    def mse_loss_window(weights, X_window, y_window):\n",
    "        # x_, x0, x1, x2 = x\n",
    "        y_pred = X_window.dot(weights)\n",
    "        return np.mean((y_pred - y_window) ** 2)\n",
    "\n",
    "    # initial guess (all ones cause why not, it dont really matter)\n",
    "    if i == min(range(len(CHINA_current_usd['report_year']) - window_size + 1)):\n",
    "        initial_guess = np.ones(len(X.T))*0.5\n",
    "    \n",
    "    # bounds (common bounds, elasticity and TFP are positive, but the last one doesnt have an upper bound \n",
    "    bounds = [(0, 1), (0, 1), (0, np.inf)]\n",
    "\n",
    "    # constraints (assuming constant return to scale, thus the ealsticities must sum to 1)\n",
    "    constraints = [\n",
    "        {'type': 'eq'\n",
    "         , 'fun': lambda weights: weights[0] + weights[1] - 1       # x1 + x2 = 1 (equality: x1 + x2 - 1 = 0)\n",
    "        }\n",
    "    ]\n",
    "    \n",
    "    # minimizing the mse function\n",
    "    result = minimize(\n",
    "        mse_loss_window,\n",
    "        initial_guess,\n",
    "        args=(X_window, y_window),\n",
    "        method='trust-constr',\n",
    "        bounds=bounds,\n",
    "        constraints=constraints,\n",
    "        options={'disp': True\n",
    "                 , 'maxiter': 15000\n",
    "                }\n",
    "    )\n",
    "\n",
    "    initial_guess = result.x\n",
    "\n",
    "    # Store results\n",
    "    results.append({\n",
    "        'start_year': CHINA_current_usd['report_year'][i],\n",
    "        'end_year': CHINA_current_usd['report_year'][i + window_size - 1],\n",
    "        'capital_elast': result.x[0],\n",
    "        'labor_elast': result.x[1],\n",
    "        'TFP': result.x[2],\n",
    "        'mse': result.fun\n",
    "    })\n",
    "\n",
    "results_df = pd.DataFrame(results)"
   ]
  },
  {
   "cell_type": "code",
   "execution_count": null,
   "id": "b552d9d3-615e-46be-a03c-a9959e0eeef5",
   "metadata": {},
   "outputs": [],
   "source": [
    "results_df.to_excel(r'cobb_douglass_5_year_estimations_1978_2023.xlsx', index=False)"
   ]
  },
  {
   "cell_type": "code",
   "execution_count": null,
   "id": "90a268e2-66e3-40b4-9a7c-b0cd57f1028c",
   "metadata": {
    "scrolled": true
   },
   "outputs": [],
   "source": [
    "actual_model_GDP = CHINA_current_usd[['report_year','GDP (current US$)']]\n",
    "\n",
    "for i in range(len(CHINA_current_usd['report_year']) - window_size + 1):\n",
    "\n",
    "    start_year = CHINA_current_usd['report_year'][i]\n",
    "    end_year = CHINA_current_usd['report_year'][i + window_size - 1]\n",
    "    \n",
    "    five_year_sample_df = CHINA_current_usd[CHINA_current_usd['report_year'].between(start_year, end_year)]\n",
    "    cobb_douglass = results_df[results_df['start_year']==CHINA_current_usd['report_year'][i]].reset_index(drop=True)\n",
    "    five_year_sample_df[f'''GDP (current US$)_model_{end_year}'''] = five_year_sample_df['Capital stock (current US$)'] ** cobb_douglass['capital_elast'][0] * five_year_sample_df['Labor force, total'] ** cobb_douglass['labor_elast'][0] * np.e**cobb_douglass['TFP'][0]\n",
    "    \n",
    "    actual_model_GDP = pd.merge(actual_model_GDP, five_year_sample_df[['report_year',f'''GDP (current US$)_model_{end_year}''']], how='left', on=['report_year'])\n",
    "\n",
    "actual_model_GDP['GDP (current US$)_model_avg'] = actual_model_GDP[actual_model_GDP.columns[2:]].T.mean()"
   ]
  },
  {
   "cell_type": "code",
   "execution_count": null,
   "id": "9a70b573-68d2-4b97-a2bd-9383d245a26e",
   "metadata": {},
   "outputs": [],
   "source": [
    "actual_model_GDP.to_excel(r'cd_5_year_estimations_wellness_fit_1978_2023.xlsx', index=False)"
   ]
  },
  {
   "cell_type": "code",
   "execution_count": null,
   "id": "a7fd7598-dfff-4d1a-b326-b8a730f26829",
   "metadata": {},
   "outputs": [],
   "source": []
  },
  {
   "cell_type": "code",
   "execution_count": null,
   "id": "d8200cc0-961f-4cee-8e5b-0f1da90cbd4b",
   "metadata": {},
   "outputs": [],
   "source": [
    "# np.e**results_df[results_df['start_year']==min(results_df['start_year'])].TFP[0]"
   ]
  },
  {
   "cell_type": "code",
   "execution_count": null,
   "id": "cd5dfddc-801d-42fb-bced-4d0f69ac8e60",
   "metadata": {},
   "outputs": [],
   "source": [
    "# np.e**results_df[results_df['start_year']==max(results_df['start_year'])].TFP[41]"
   ]
  },
  {
   "cell_type": "code",
   "execution_count": null,
   "id": "e1279468-8a92-4ebb-94f5-1b930d6472f8",
   "metadata": {},
   "outputs": [],
   "source": [
    "# np.e**results_df[results_df['start_year']==max(results_df['start_year'])].TFP[41]/np.e**results_df[results_df['start_year']==min(results_df['start_year'])].TFP[0]"
   ]
  },
  {
   "cell_type": "code",
   "execution_count": null,
   "id": "4209aa70-cec9-4ec0-bedd-3cc6cadf53cb",
   "metadata": {},
   "outputs": [],
   "source": [
    "n = 2010#max(results_df['start_year'])\n",
    "# n = min(results_df['start_year'])"
   ]
  },
  {
   "cell_type": "code",
   "execution_count": null,
   "id": "061341f1-9bd6-4358-88ab-08f5d50cbb9e",
   "metadata": {},
   "outputs": [],
   "source": [
    "test_df = CHINA_current_usd[CHINA_current_usd['report_year'].between(n, n+window_size-1)]\n",
    "test_df"
   ]
  },
  {
   "cell_type": "code",
   "execution_count": null,
   "id": "e34c5e73-416d-4ab9-8322-0060de540150",
   "metadata": {},
   "outputs": [],
   "source": [
    "cdm = results_df[results_df['start_year']==n].reset_index(drop=True)\n",
    "cdm"
   ]
  },
  {
   "cell_type": "code",
   "execution_count": null,
   "id": "d05cbbc3-171d-491e-8c69-366cc2773f88",
   "metadata": {},
   "outputs": [],
   "source": [
    "test_df['GDP (current US$)_model'] = test_df['Capital stock (current US$)'] ** cdm['capital_elast'][0] * test_df['Labor force, total'] ** cdm['labor_elast'][0] * np.e**cdm['TFP'][0]"
   ]
  },
  {
   "cell_type": "code",
   "execution_count": null,
   "id": "3732e1d6-3607-41e8-b5f2-98b9dc069767",
   "metadata": {},
   "outputs": [],
   "source": [
    "test_df['GDP (current US$)_model']/test_df['GDP (current US$)']"
   ]
  },
  {
   "cell_type": "code",
   "execution_count": null,
   "id": "24a58821-6ce2-4564-9907-5f4b12c87f03",
   "metadata": {},
   "outputs": [],
   "source": []
  },
  {
   "cell_type": "code",
   "execution_count": null,
   "id": "fd7af101-788a-4d6d-9276-c3160eff4285",
   "metadata": {},
   "outputs": [],
   "source": []
  }
 ],
 "metadata": {
  "kernelspec": {
   "display_name": "Python [conda env:base] *",
   "language": "python",
   "name": "conda-base-py"
  },
  "language_info": {
   "codemirror_mode": {
    "name": "ipython",
    "version": 3
   },
   "file_extension": ".py",
   "mimetype": "text/x-python",
   "name": "python",
   "nbconvert_exporter": "python",
   "pygments_lexer": "ipython3",
   "version": "3.12.7"
  }
 },
 "nbformat": 4,
 "nbformat_minor": 5
}
